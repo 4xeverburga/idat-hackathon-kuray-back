{
 "cells": [
  {
   "cell_type": "code",
   "execution_count": 1,
   "metadata": {},
   "outputs": [
    {
     "name": "stdout",
     "output_type": "stream",
     "text": [
      "env: AWS_DEFAULT_PROFILE=protecso\n"
     ]
    }
   ],
   "source": [
    "%env AWS_DEFAULT_PROFILE=protecso"
   ]
  },
  {
   "cell_type": "code",
   "execution_count": 2,
   "metadata": {},
   "outputs": [
    {
     "data": {
      "text/plain": [
       "['TransferenciasPlinyYape',\n",
       " 'TransferenciasPlinyYape-r3-v5',\n",
       " 'TransferenciasPlinyYape-r4-v1',\n",
       " 'geo_test',\n",
       " 'pest_reports',\n",
       " 'tierra']"
      ]
     },
     "execution_count": 2,
     "metadata": {},
     "output_type": "execute_result"
    }
   ],
   "source": [
    "import boto3\n",
    "\n",
    "# Initialize a session using Amazon DynamoDB\n",
    "dynamodb = boto3.client('dynamodb', region_name='us-east-1')\n",
    "\n",
    "# List all DynamoDB tables\n",
    "response = dynamodb.list_tables()\n",
    "\n",
    "# Get the table names from the response\n",
    "table_names = response['TableNames']\n",
    "\n",
    "# Print the table names\n",
    "table_names"
   ]
  },
  {
   "cell_type": "code",
   "execution_count": 3,
   "metadata": {},
   "outputs": [
    {
     "data": {
      "text/plain": [
       "dynamodb.Table(name='pest_reports')"
      ]
     },
     "execution_count": 3,
     "metadata": {},
     "output_type": "execute_result"
    }
   ],
   "source": [
    "import boto3\n",
    "dynamodb = boto3.resource('dynamodb', region_name='us-east-1')\n",
    "\n",
    "# Select your DynamoDB table\n",
    "table = dynamodb.Table('pest_reports')\n",
    "table\n"
   ]
  },
  {
   "cell_type": "code",
   "execution_count": 4,
   "metadata": {},
   "outputs": [],
   "source": [
    "\n",
    "# Scan the table to get all items\n",
    "response = table.scan()\n",
    "\n",
    "# Get the items from the response\n",
    "items = response['Items']"
   ]
  },
  {
   "cell_type": "code",
   "execution_count": 5,
   "metadata": {},
   "outputs": [
    {
     "name": "stdout",
     "output_type": "stream",
     "text": [
      "First item: {'date': '2024-11-14', 'hashKey': Decimal('10452'), 'geoJson': '-11.823338781543075,-75.39400421807449', 'pest': 'Polilla de calabaza', 'rangeKey': '000db919-b843-43a6-b60e-718b42772278', 'geohash': Decimal('10452512796294203551'), 'region': 'Matahuasi', 'description': 'Afecta a la calabaza, pepino, pimiento, tomate y sandía. Las larvas se alimentan de los tejidos de la planta. Usar insecticidas', 'country': 'Peru'}\n"
     ]
    }
   ],
   "source": [
    "# convert the items to dict and print the first ojne\n",
    "first_item = dict(items[0])\n",
    "print(\"First item:\", first_item)"
   ]
  },
  {
   "cell_type": "code",
   "execution_count": null,
   "metadata": {},
   "outputs": [],
   "source": []
  },
  {
   "cell_type": "code",
   "execution_count": null,
   "metadata": {},
   "outputs": [],
   "source": []
  }
 ],
 "metadata": {
  "kernelspec": {
   "display_name": ".venv",
   "language": "python",
   "name": "python3"
  },
  "language_info": {
   "codemirror_mode": {
    "name": "ipython",
    "version": 3
   },
   "file_extension": ".py",
   "mimetype": "text/x-python",
   "name": "python",
   "nbconvert_exporter": "python",
   "pygments_lexer": "ipython3",
   "version": "3.12.0"
  }
 },
 "nbformat": 4,
 "nbformat_minor": 2
}
